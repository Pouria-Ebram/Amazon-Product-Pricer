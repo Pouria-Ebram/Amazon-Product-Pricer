{
 "cells": [
  {
   "cell_type": "markdown",
   "id": "db8736a7-ed94-441c-9556-831fa57b5a10",
   "metadata": {},
   "source": [
    "# LLM frontier Model for price prediction\n",
    "\n",
    "Here we put Frontier Models to the test.\n",
    "It's important to note that we aren't Training the frontier models. We're only providing them with the Test dataset to see how they perform. They don't gain the benefit of the training examples that we provided to the Traditional ML models.\n",
    "Although It's entirely possible that in their large training data, they've already been exposed to all the products in the training AND the test set. So there could be test \"contamination\" here which gives them an unfair advantage."
   ]
  },
  {
   "cell_type": "code",
   "execution_count": 1,
   "id": "681c717b-4c24-4ac3-a5f3-3c5881d6e70a",
   "metadata": {},
   "outputs": [],
   "source": [
    "# imports\n",
    "\n",
    "import os\n",
    "import re\n",
    "import math\n",
    "import json\n",
    "import random\n",
    "from dotenv import load_dotenv\n",
    "from huggingface_hub import login\n",
    "import matplotlib.pyplot as plt\n",
    "import numpy as np\n",
    "import pickle\n",
    "from collections import Counter\n",
    "from openai import OpenAI\n",
    "from anthropic import Anthropic"
   ]
  },
  {
   "cell_type": "code",
   "execution_count": 2,
   "id": "36d05bdc-0155-4c72-a7ee-aa4e614ffd3c",
   "metadata": {},
   "outputs": [],
   "source": [
    "# environment\n",
    "\n",
    "load_dotenv(override=True)\n",
    "os.environ['OPENAI_API_KEY'] = os.getenv('OPENAI_API_KEY', 'your-key-if-not-using-env')\n",
    "os.environ['ANTHROPIC_API_KEY'] = os.getenv('ANTHROPIC_API_KEY', 'your-key-if-not-using-env')\n",
    "os.environ['HF_TOKEN'] = os.getenv('HF_TOKEN', 'your-key-if-not-using-env')"
   ]
  },
  {
   "cell_type": "code",
   "execution_count": 3,
   "id": "4dd3aad2-6f99-433c-8792-e461d2f06622",
   "metadata": {},
   "outputs": [
    {
     "name": "stderr",
     "output_type": "stream",
     "text": [
      "Note: Environment variable`HF_TOKEN` is set and is the current active token independently from the token you've just configured.\n"
     ]
    }
   ],
   "source": [
    "# Log in to HuggingFace\n",
    "\n",
    "hf_token = os.environ['HF_TOKEN']\n",
    "login(hf_token, add_to_git_credential=True)"
   ]
  },
  {
   "cell_type": "code",
   "execution_count": 4,
   "id": "6985bdc7-fa45-49a3-ae97-84bdeb9b2083",
   "metadata": {},
   "outputs": [],
   "source": [
    "# Here we import the tester package from the testing.py package saved in the porject root\n",
    "# call it with Tester.test(function_name, test_dataset)\n",
    "\n",
    "from src.items import Item\n",
    "from src.testing import Tester"
   ]
  },
  {
   "cell_type": "code",
   "execution_count": 5,
   "id": "b0a6fb86-74a4-403c-ab25-6db2d74e9d2b",
   "metadata": {},
   "outputs": [],
   "source": [
    "openai = OpenAI()\n",
    "claude = Anthropic()"
   ]
  },
  {
   "cell_type": "code",
   "execution_count": 6,
   "id": "c830ed3e-24ee-4af6-a07b-a1bfdcd39278",
   "metadata": {},
   "outputs": [],
   "source": [
    "%matplotlib inline"
   ]
  },
  {
   "cell_type": "code",
   "execution_count": 7,
   "id": "5c9b05f4-c9eb-462c-8d86-de9140a2d985",
   "metadata": {},
   "outputs": [],
   "source": [
    "with open('train_lite.pkl', 'rb') as file:\n",
    "    train = pickle.load(file)\n",
    "\n",
    "with open('test_lite.pkl', 'rb') as file:\n",
    "    test = pickle.load(file)"
   ]
  },
  {
   "cell_type": "markdown",
   "id": "066fef03-8338-4526-9df3-89b649ad4f0a",
   "metadata": {},
   "source": [
    "## Trying the GPT-4o-mini\n",
    "\n",
    "I used this model due to low cost of API calls"
   ]
  },
  {
   "cell_type": "code",
   "execution_count": 12,
   "id": "66ea68e8-ab1b-4f0d-aba4-a59574d8f85e",
   "metadata": {},
   "outputs": [],
   "source": [
    "# First let's work on a good prompt for a Frontier model\n",
    "# Notice that I'm removing the \" to the nearest dollar\" from the prompt as it is not required here when using the model for inference \n",
    "# When we train our own models, we'll need to make the problem as easy as possible, \n",
    "\n",
    "def messages_for(item):\n",
    "    system_message = \"You estimate prices of items. Reply only with the price, no explanation\"\n",
    "    user_prompt = item.test_prompt().replace(\" to the nearest dollar\",\"\").replace(\"\\n\\nPrice is $\",\"\")\n",
    "    return [\n",
    "        {\"role\": \"system\", \"content\": system_message},\n",
    "        {\"role\": \"user\", \"content\": user_prompt},\n",
    "        {\"role\": \"assistant\", \"content\": \"Price is $\"}\n",
    "    ]"
   ]
  },
  {
   "cell_type": "code",
   "execution_count": 13,
   "id": "4ff92d61-0d27-4b0d-8b32-c9891016509b",
   "metadata": {},
   "outputs": [
    {
     "data": {
      "text/plain": [
       "[{'role': 'system',\n",
       "  'content': 'You estimate prices of items. Reply only with the price, no explanation'},\n",
       " {'role': 'user',\n",
       "  'content': \"How much does this cost?\\n\\nSetpower Insulated Protective Cover for AJ30 Portable Refrigerator Freezer, suitable for AJ30 Only\\nInsulation & Waterproof well-made insulation could save battery power and improve cooling efficiency by preventing cold air from flowing away. Durable and Foldable with its oxford cloth outer layer, it's durable and protects your portable refrigerator from scratches and dust. Expanded Bag for Accessories two expanded bags on its side, expand space to store the other accessories. Great Ventilation a hollowed design for positions of vents doesn't affect the ventilation. Attention this insulated cover is ONLY suitable for SetPower AJ30 portable refrigerator. FIT TO AJ30 ONLY. Brand Name Setpower, Model Info AJ30 COVER, model number AJ30 COVER, Installation Type Freestanding, Part AJ30 cover, Special Features Portable, Color\"},\n",
       " {'role': 'assistant', 'content': 'Price is $'}]"
      ]
     },
     "execution_count": 13,
     "metadata": {},
     "output_type": "execute_result"
    }
   ],
   "source": [
    "# Try this out\n",
    "\n",
    "messages_for(test[0])"
   ]
  },
  {
   "cell_type": "code",
   "execution_count": 14,
   "id": "b1af1888-f94a-4106-b0d8-8a70939eec4e",
   "metadata": {},
   "outputs": [],
   "source": [
    "# A utility function to extract the price from a string\n",
    "\n",
    "def get_price(s):\n",
    "    s = s.replace('$','').replace(',','')\n",
    "    match = re.search(r\"[-+]?\\d*\\.\\d+|\\d+\", s)\n",
    "    return float(match.group()) if match else 0"
   ]
  },
  {
   "cell_type": "code",
   "execution_count": 15,
   "id": "f138c5b7-bcc1-4085-aced-68dad1bf36b4",
   "metadata": {},
   "outputs": [
    {
     "data": {
      "text/plain": [
       "99.99"
      ]
     },
     "execution_count": 15,
     "metadata": {},
     "output_type": "execute_result"
    }
   ],
   "source": [
    "get_price(\"The price is roughly $99.99 because blah blah\")"
   ]
  },
  {
   "cell_type": "code",
   "execution_count": 16,
   "id": "501a2a7a-69c8-451b-bbc0-398bcb9e1612",
   "metadata": {},
   "outputs": [],
   "source": [
    "# The function for gpt-4o-mini\n",
    "\n",
    "def gpt_4o_mini(item):\n",
    "    response = openai.chat.completions.create(\n",
    "        model=\"gpt-4o-mini\", \n",
    "        messages=messages_for(item),\n",
    "        seed=42,\n",
    "        max_tokens=5\n",
    "    )\n",
    "    reply = response.choices[0].message.content\n",
    "    return get_price(reply)"
   ]
  },
  {
   "cell_type": "code",
   "execution_count": 17,
   "id": "843d88b4-364a-431b-b48b-8a7c1f68b786",
   "metadata": {},
   "outputs": [
    {
     "data": {
      "text/plain": [
       "65.99"
      ]
     },
     "execution_count": 17,
     "metadata": {},
     "output_type": "execute_result"
    }
   ],
   "source": [
    "test[0].price"
   ]
  },
  {
   "cell_type": "code",
   "execution_count": 18,
   "id": "feae120b-b5cb-4dc4-b4f6-38d69db756f6",
   "metadata": {},
   "outputs": [
    {
     "data": {
      "text/plain": [
       "49.99"
      ]
     },
     "execution_count": 18,
     "metadata": {},
     "output_type": "execute_result"
    }
   ],
   "source": [
    "gpt_4o_mini(test[0])"
   ]
  },
  {
   "cell_type": "code",
   "execution_count": 19,
   "id": "36bdd2c9-1859-4f99-a09f-3ec83b845b30",
   "metadata": {
    "scrolled": true
   },
   "outputs": [
    {
     "name": "stdout",
     "output_type": "stream",
     "text": [
      "\u001b[92m1: Guess: $49.99 Truth: $65.99 Error: $16.00 SLE: 0.07 Item: Setpower Insulated Protective Cover for ...\u001b[0m\n",
      "\u001b[92m2: Guess: $10.99 Truth: $9.68 Error: $1.31 SLE: 0.01 Item: TUAIC Refrigerator Door Light Switch 2 F...\u001b[0m\n",
      "\u001b[92m3: Guess: $129.99 Truth: $155.98 Error: $25.99 SLE: 0.03 Item: Kegco Secondary Regulator, 3 Product, Ch...\u001b[0m\n",
      "\u001b[92m4: Guess: $0.00 Truth: $5.59 Error: $5.59 SLE: 3.56 Item: MHY62044106 Refrigerator Door Spring 2Pc...\u001b[0m\n",
      "\u001b[93m5: Guess: $30.00 Truth: $98.40 Error: $68.40 SLE: 1.36 Item: Ice-O-Matic 9131111-01 Float Valve\u001b[0m\n",
      "\u001b[92m6: Guess: $35.99 Truth: $54.99 Error: $19.00 SLE: 0.17 Item: Wireless Temperature & Humidity Bluetoot...\u001b[0m\n",
      "\u001b[92m7: Guess: $10.99 Truth: $5.71 Error: $5.28 SLE: 0.34 Item: 3Inch Thermometer Hygrometer for Indoor ...\u001b[0m\n",
      "\u001b[92m8: Guess: $10.99 Truth: $9.53 Error: $1.46 SLE: 0.02 Item: GE WH1X2754 GE Timer Knob Assembly,white\u001b[0m\n",
      "\u001b[92m9: Guess: $15.99 Truth: $11.24 Error: $4.75 SLE: 0.11 Item: newlifeapp 33001003 Dryer Lint Screen Fi...\u001b[0m\n",
      "\u001b[92m10: Guess: $29.99 Truth: $12.88 Error: $17.11 SLE: 0.65 Item: Away NV350 NV351 NV352 NV355 NV356 NV357...\u001b[0m\n",
      "\u001b[93m11: Guess: $150.00 Truth: $99.99 Error: $50.01 SLE: 0.16 Item: IM116000 Refrigerator Ice Maker Genuine ...\u001b[0m\n",
      "\u001b[92m12: Guess: $18.99 Truth: $16.99 Error: $2.00 SLE: 0.01 Item: 2 PACKS DLSC002 Water Filter Compatible ...\u001b[0m\n",
      "\u001b[92m13: Guess: $25.99 Truth: $12.74 Error: $13.25 SLE: 0.46 Item: STANCO METAL PROD 410-8 8\"Elec NonstickS...\u001b[0m\n",
      "\u001b[92m14: Guess: $10.99 Truth: $10.95 Error: $0.04 SLE: 0.00 Item: GE WB32X10012 6-Inch Drip Pan\u001b[0m\n",
      "\u001b[92m15: Guess: $39.99 Truth: $66.50 Error: $26.51 SLE: 0.25 Item: Edgewater Parts WH23X10016 Drain Pump Co...\u001b[0m\n",
      "\u001b[92m16: Guess: $5.99 Truth: $11.99 Error: $6.00 SLE: 0.38 Item: Elyum Size 04 Cone Coffee Filters, Natur...\u001b[0m\n",
      "\u001b[92m17: Guess: $49.99 Truth: $49.95 Error: $0.04 SLE: 0.00 Item: Everydrop by Whirlpool Ice and Water Ref...\u001b[0m\n",
      "\u001b[92m18: Guess: $25.00 Truth: $26.92 Error: $1.92 SLE: 0.01 Item: Beverage Air 703-587C Door Gasket\u001b[0m\n",
      "\u001b[92m19: Guess: $110.00 Truth: $89.98 Error: $20.02 SLE: 0.04 Item: Frigidaire EFIC123-SS Counter Top Maker,...\u001b[0m\n",
      "\u001b[92m20: Guess: $47.99 Truth: $25.99 Error: $22.00 SLE: 0.36 Item: Supplying Demand 316203200 316199900 Ele...\u001b[0m\n",
      "\u001b[92m21: Guess: $10.99 Truth: $17.99 Error: $7.00 SLE: 0.21 Item: 2-Pack 37001142 Dryer Lint Filter Replac...\u001b[0m\n",
      "\u001b[92m22: Guess: $25.99 Truth: $6.99 Error: $19.00 SLE: 1.48 Item: Qlear-CLWT Premium Replacement Coffee Ma...\u001b[0m\n",
      "\u001b[92m23: Guess: $15.99 Truth: $39.99 Error: $24.00 SLE: 0.78 Item: HUBBELL HBL5666CA AC Plug NEMA 6-15 Male...\u001b[0m\n",
      "\u001b[92m24: Guess: $15.99 Truth: $13.99 Error: $2.00 SLE: 0.02 Item: Refrigerator Egg Holder With Lid - Super...\u001b[0m\n",
      "\u001b[91m25: Guess: $499.95 Truth: $339.95 Error: $160.00 SLE: 0.15 Item: ZLINE 20.5\" Ducted Wall Mount Range Hood...\u001b[0m\n",
      "\u001b[92m26: Guess: $30.99 Truth: $67.99 Error: $37.00 SLE: 0.59 Item: Supplying Demand W10919003 W10775446 Top...\u001b[0m\n",
      "\u001b[91m27: Guess: $49.99 Truth: $139.00 Error: $89.01 SLE: 1.02 Item: Compatible Ice Maker for Whirlpool GZ25F...\u001b[0m\n",
      "\u001b[92m28: Guess: $12.99 Truth: $8.97 Error: $4.02 SLE: 0.11 Item: Blutoget 6\" Louvered Vent Cover for Exte...\u001b[0m\n",
      "\u001b[92m29: Guess: $34.99 Truth: $39.65 Error: $4.66 SLE: 0.01 Item: Edgewater Parts WR60X23584, AP5955766, P...\u001b[0m\n",
      "\u001b[92m30: Guess: $199.99 Truth: $229.98 Error: $29.99 SLE: 0.02 Item: Winflo 30 In. Convertible Stainless Stee...\u001b[0m\n",
      "\u001b[92m31: Guess: $32.99 Truth: $25.80 Error: $7.19 SLE: 0.06 Item: 383EER3001G 4901ER2003A 383EER3001J 383E...\u001b[0m\n",
      "\u001b[92m32: Guess: $12.99 Truth: $11.99 Error: $1.00 SLE: 0.01 Item: 2 PACK AF Compatible Replacement For Sam...\u001b[0m\n",
      "\u001b[92m33: Guess: $12.99 Truth: $9.99 Error: $3.00 SLE: 0.06 Item: Poweka Refillable Coffee Capsules Pods R...\u001b[0m\n",
      "\u001b[92m34: Guess: $39.99 Truth: $21.99 Error: $18.00 SLE: 0.33 Item: 2-Pack Replacement for Jenn-Air JCD2297K...\u001b[0m\n",
      "\u001b[92m35: Guess: $49.99 Truth: $17.90 Error: $32.09 SLE: 0.98 Item: Supco DE019AC Dryer Heating Element Rest...\u001b[0m\n",
      "\u001b[92m36: Guess: $47.99 Truth: $84.00 Error: $36.01 SLE: 0.30 Item: Frymaster 826-1526 Common Electric Repla...\u001b[0m\n",
      "\u001b[92m37: Guess: $10.99 Truth: $16.24 Error: $5.25 SLE: 0.13 Item: Plumb Craft 7508800N 5-Foot Washing Mach...\u001b[0m\n",
      "\u001b[92m38: Guess: $29.99 Truth: $23.99 Error: $6.00 SLE: 0.05 Item: Overbest DA97-17376B Replacement for Sam...\u001b[0m\n",
      "\u001b[92m39: Guess: $14.99 Truth: $6.99 Error: $8.00 SLE: 0.48 Item: Fill 'n Brew Individual Disposable Coffe...\u001b[0m\n",
      "\u001b[92m40: Guess: $29.99 Truth: $24.99 Error: $5.00 SLE: 0.03 Item: Maytag UKF7003 EDR7D1 Comparable Refrige...\u001b[0m\n",
      "\u001b[92m41: Guess: $12.99 Truth: $11.61 Error: $1.38 SLE: 0.01 Item: Coffee Filters - Natural Unbleached Brow...\u001b[0m\n",
      "\u001b[93m42: Guess: $1,199.00 Truth: $949.00 Error: $250.00 SLE: 0.05 Item: EdgeStar 20 Inch Wide 4.3 Cu. Ft. Medica...\u001b[0m\n",
      "\u001b[93m43: Guess: $25.99 Truth: $74.00 Error: $48.01 SLE: 1.04 Item: Bosch 00677095 Door Lower Bin, Clear\u001b[0m\n",
      "\u001b[92m44: Guess: $47.99 Truth: $22.05 Error: $25.94 SLE: 0.57 Item: Samsung DA34-10120E Switch Door-F\u001b[0m\n",
      "\u001b[91m45: Guess: $150.00 Truth: $284.00 Error: $134.00 SLE: 0.40 Item: Jenn air JGA8100ADB Stove Cartridge Asse...\u001b[0m\n",
      "\u001b[93m46: Guess: $39.99 Truth: $91.78 Error: $51.79 SLE: 0.67 Item: Whole Parts Burner Grate (Black) Part # ...\u001b[0m\n",
      "\u001b[92m47: Guess: $19.99 Truth: $45.20 Error: $25.21 SLE: 0.62 Item: DEFLECTO SK8WF Supurr-Flex(R) 8ft Dryer ...\u001b[0m\n",
      "\u001b[92m48: Guess: $15.99 Truth: $8.69 Error: $7.30 SLE: 0.32 Item: Supco RR109 Receptacle Kit\u001b[0m\n",
      "\u001b[92m49: Guess: $15.99 Truth: $16.18 Error: $0.19 SLE: 0.00 Item: 33001003 Dryer Lint Screen Filter Replac...\u001b[0m\n",
      "\u001b[92m50: Guess: $0.00 Truth: $6.50 Error: $6.50 SLE: 4.06 Item: W10194422 Replacement Light Bulb 40 Watt...\u001b[0m\n",
      "\u001b[92m51: Guess: $14.99 Truth: $32.21 Error: $17.22 SLE: 0.53 Item: ForeverPRO 8532165 Drum Light Lens for W...\u001b[0m\n",
      "\u001b[92m52: Guess: $25.99 Truth: $15.39 Error: $10.60 SLE: 0.25 Item: Highcraft Dishwasher Water Supply Line, ...\u001b[0m\n",
      "\u001b[92m53: Guess: $15.99 Truth: $17.99 Error: $2.00 SLE: 0.01 Item: 316048413 and 316048414 Stove Burner Dri...\u001b[0m\n",
      "\u001b[92m54: Guess: $35.99 Truth: $26.99 Error: $9.00 SLE: 0.08 Item: ReplacementBrand 8171413 Comparable Repl...\u001b[0m\n",
      "\u001b[92m55: Guess: $10.99 Truth: $11.99 Error: $1.00 SLE: 0.01 Item: 2-Pack 341241 Dryer Drum Belt Replacemen...\u001b[0m\n",
      "\u001b[92m56: Guess: $15.99 Truth: $44.46 Error: $28.47 SLE: 0.97 Item: WP9870163 9870163 Power Nut Kit - Compat...\u001b[0m\n",
      "\u001b[92m57: Guess: $12.99 Truth: $15.99 Error: $3.00 SLE: 0.04 Item: Stovetop Extender SE23WHI Oven Gap Guard...\u001b[0m\n",
      "\u001b[92m58: Guess: $99.99 Truth: $129.99 Error: $30.00 SLE: 0.07 Item: COSVALVE Portable Washing Machine 17lbs ...\u001b[0m\n",
      "\u001b[92m59: Guess: $30.99 Truth: $24.99 Error: $6.00 SLE: 0.04 Item: AlaSou Washer Dustproof Cover Front Load...\u001b[0m\n",
      "\u001b[92m60: Guess: $24.99 Truth: $27.38 Error: $2.39 SLE: 0.01 Item: Honeywell HC26E1004/U Pad for He200, He2...\u001b[0m\n",
      "\u001b[92m61: Guess: $12.99 Truth: $16.95 Error: $3.96 SLE: 0.06 Item: HQRP 2-Pack Wick Filter Compatible with ...\u001b[0m\n",
      "\u001b[92m62: Guess: $15.99 Truth: $10.82 Error: $5.17 SLE: 0.13 Item: Whirlpool 8537982 Pad Washer\u001b[0m\n",
      "\u001b[92m63: Guess: $12.99 Truth: $19.00 Error: $6.01 SLE: 0.13 Item: Durable Disposable Electric Burner Bibs-...\u001b[0m\n",
      "\u001b[92m64: Guess: $15.99 Truth: $12.98 Error: $3.01 SLE: 0.04 Item: Anti Vibration Pads for Washing Machine,...\u001b[0m\n",
      "\u001b[92m65: Guess: $10.99 Truth: $16.99 Error: $6.00 SLE: 0.16 Item: Reusable K Cups for Keurig, Reusable Cof...\u001b[0m\n",
      "\u001b[92m66: Guess: $24.99 Truth: $24.97 Error: $0.02 SLE: 0.00 Item: Apace Living Pour Over Coffee Filter - W...\u001b[0m\n",
      "\u001b[92m67: Guess: $12.99 Truth: $10.91 Error: $2.08 SLE: 0.03 Item: Kitchen Basics 101 2 Pack ES18806 Refrig...\u001b[0m\n",
      "\u001b[92m68: Guess: $29.99 Truth: $14.98 Error: $15.01 SLE: 0.44 Item: Mist LT1000P Water Filter Replacement, C...\u001b[0m\n",
      "\u001b[92m69: Guess: $15.99 Truth: $7.90 Error: $8.09 SLE: 0.42 Item: NEW Dryer Drum Felt Replacement for Whir...\u001b[0m\n",
      "\u001b[92m70: Guess: $39.99 Truth: $25.75 Error: $14.24 SLE: 0.18 Item: Cobectal 4581EL2002C Dryer Drum Roller A...\u001b[0m\n",
      "\u001b[92m71: Guess: $35.99 Truth: $41.77 Error: $5.78 SLE: 0.02 Item: WH01X10343 Washer Shock Absorber 4 Pack ...\u001b[0m\n",
      "\u001b[92m72: Guess: $30.99 Truth: $20.68 Error: $10.31 SLE: 0.15 Item: Fafeicy WT2000 110-220V Digital Humidity...\u001b[0m\n",
      "\u001b[93m73: Guess: $129.99 Truth: $69.99 Error: $60.00 SLE: 0.38 Item: TJ. Clothes Dryer, 110V 600W Portable Dr...\u001b[0m\n",
      "\u001b[92m74: Guess: $35.99 Truth: $23.99 Error: $12.00 SLE: 0.15 Item: DC97-16350C Suspension Support Rod and A...\u001b[0m\n",
      "\u001b[92m75: Guess: $18.99 Truth: $28.69 Error: $9.70 SLE: 0.16 Item: Supplying Demand WB24X22341 WB24X40331 E...\u001b[0m\n",
      "\u001b[92m76: Guess: $15.99 Truth: $42.00 Error: $26.01 SLE: 0.86 Item: General Electric WB03X24360 Knob Assembl...\u001b[0m\n",
      "\u001b[91m77: Guess: $25.99 Truth: $123.57 Error: $97.58 SLE: 2.34 Item: Frigidaire 5304445529 Oven Door Hinge, G...\u001b[0m\n",
      "\u001b[92m78: Guess: $12.99 Truth: $8.99 Error: $4.00 SLE: 0.11 Item: Waytiffer Gas Burner Liners (50 Pack) 8....\u001b[0m\n",
      "\u001b[92m79: Guess: $39.99 Truth: $36.95 Error: $3.04 SLE: 0.01 Item: USA Made MSWF Compatible by Instapure NS...\u001b[0m\n",
      "\u001b[92m80: Guess: $15.99 Truth: $11.99 Error: $4.00 SLE: 0.07 Item: 2-Pack 341241 Dryer Drum Belt Replacemen...\u001b[0m\n",
      "\u001b[92m81: Guess: $49.99 Truth: $41.30 Error: $8.69 SLE: 0.03 Item: Washing Machine Hoses and Steam Dryer In...\u001b[0m\n",
      "\u001b[92m82: Guess: $35.99 Truth: $35.61 Error: $0.38 SLE: 0.00 Item: Bosch 12004119 Dishwasher Door Spring an...\u001b[0m\n",
      "\u001b[91m83: Guess: $299.99 Truth: $169.99 Error: $130.00 SLE: 0.32 Item: Broan QS336AA QS3 Series Range Hood, 36-...\u001b[0m\n",
      "\u001b[92m84: Guess: $25.99 Truth: $19.91 Error: $6.08 SLE: 0.07 Item: Bosch 00631633 Range Surface Burner Igni...\u001b[0m\n",
      "\u001b[92m85: Guess: $12.99 Truth: $9.57 Error: $3.42 SLE: 0.08 Item: LONYE 9759242 Oven Thermal Fuse Replacem...\u001b[0m\n",
      "\u001b[92m86: Guess: $25.99 Truth: $29.69 Error: $3.70 SLE: 0.02 Item: Upgrade W10594481 Stainless Steel Cooker...\u001b[0m\n",
      "\u001b[92m87: Guess: $49.99 Truth: $21.93 Error: $28.06 SLE: 0.64 Item: Supco IMM8366 Icemaker Control Module, R...\u001b[0m\n",
      "\u001b[92m88: Guess: $29.99 Truth: $32.56 Error: $2.57 SLE: 0.01 Item: DA31-00334C (AP6803162) Evaporator Fan M...\u001b[0m\n",
      "\u001b[92m89: Guess: $15.99 Truth: $22.78 Error: $6.79 SLE: 0.11 Item: UPGRADE 240363702 Refrigerator Door Bin ...\u001b[0m\n",
      "\u001b[92m90: Guess: $25.99 Truth: $24.79 Error: $1.20 SLE: 0.00 Item: Supreme Covers Portable Washing Machine ...\u001b[0m\n",
      "\u001b[92m91: Guess: $25.00 Truth: $33.69 Error: $8.69 SLE: 0.08 Item: Frigidaire 316206401 Surface Burner Base...\u001b[0m\n",
      "\u001b[92m92: Guess: $15.99 Truth: $12.99 Error: $3.00 SLE: 0.04 Item: TooCust Milk Frothing Pitcher 20 OZ/600M...\u001b[0m\n",
      "\u001b[92m93: Guess: $10.99 Truth: $12.99 Error: $2.00 SLE: 0.02 Item: Premium Vials 38-28SWB-ZT 38 x 28 mm Cle...\u001b[0m\n",
      "\u001b[92m94: Guess: $15.99 Truth: $10.98 Error: $5.01 SLE: 0.12 Item: 8318084 AP3180933 PS886960 Washer Door L...\u001b[0m\n",
      "\u001b[92m95: Guess: $35.99 Truth: $26.44 Error: $9.55 SLE: 0.09 Item: Aqua Fresh 4396508 Replacement Water Fil...\u001b[0m\n",
      "\u001b[92m96: Guess: $10.99 Truth: $16.99 Error: $6.00 SLE: 0.16 Item: InterDesign Covered Egg Holder - Refrige...\u001b[0m\n",
      "\u001b[92m97: Guess: $25.99 Truth: $25.25 Error: $0.74 SLE: 0.00 Item: Upgrade DG94-00520A Gas Range Oven Flat ...\u001b[0m\n",
      "\u001b[92m98: Guess: $15.99 Truth: $11.88 Error: $4.11 SLE: 0.08 Item: 383EER4001A Washing Machine Inner/Outer ...\u001b[0m\n",
      "\u001b[92m99: Guess: $29.99 Truth: $28.99 Error: $1.00 SLE: 0.00 Item: Maxmartt 100mm Vent Cover Stainless Stee...\u001b[0m\n",
      "\u001b[92m100: Guess: $19.99 Truth: $23.12 Error: $3.13 SLE: 0.02 Item: Upgraded Lifetime Appliance WR72X239 Cri...\u001b[0m\n",
      "\u001b[92m101: Guess: $15.99 Truth: $52.97 Error: $36.98 SLE: 1.34 Item: Whirlpool W10181986 Sensor for Range, Si...\u001b[0m\n",
      "\u001b[92m102: Guess: $25.99 Truth: $25.99 Error: $0.00 SLE: 0.00 Item: Wintact Digital Temperature and Humidity...\u001b[0m\n",
      "\u001b[92m103: Guess: $29.99 Truth: $17.99 Error: $12.00 SLE: 0.24 Item: BOTNA 97006931 Range Hood Grease Filter ...\u001b[0m\n",
      "\u001b[92m104: Guess: $15.99 Truth: $7.99 Error: $8.00 SLE: 0.41 Item: Milk Frothing Pitcher 12oz, Espresso Cap...\u001b[0m\n",
      "\u001b[92m105: Guess: $15.99 Truth: $28.99 Error: $13.00 SLE: 0.32 Item: 1040 Replacement Wick for AIRCARE, Essic...\u001b[0m\n",
      "\u001b[92m106: Guess: $24.20 Truth: $12.07 Error: $12.13 SLE: 0.43 Item: Stanco Gas Range Drip Pan For Gas Ranges...\u001b[0m\n",
      "\u001b[92m107: Guess: $18.99 Truth: $18.99 Error: $0.00 SLE: 0.00 Item: Dampp Chaser Piano Humidifier Pad Treatm...\u001b[0m\n",
      "\u001b[92m108: Guess: $15.99 Truth: $9.99 Error: $6.00 SLE: 0.19 Item: Gardens 216822900 Light Switch Fits Frig...\u001b[0m\n",
      "\u001b[92m109: Guess: $39.99 Truth: $29.99 Error: $10.00 SLE: 0.08 Item: Waterspecialist DA97-17376B Replacement ...\u001b[0m\n",
      "\u001b[92m110: Guess: $15.99 Truth: $9.99 Error: $6.00 SLE: 0.19 Item: Upgraded WB03X24818 Stove Knob, Stainles...\u001b[0m\n",
      "\u001b[92m111: Guess: $29.99 Truth: $31.69 Error: $1.70 SLE: 0.00 Item: 5-PACK Top Burner Control Dial Knob Rang...\u001b[0m\n",
      "\u001b[92m112: Guess: $15.99 Truth: $24.99 Error: $9.00 SLE: 0.18 Item: Large Capacity Egg Holder for Refrigerat...\u001b[0m\n",
      "\u001b[92m113: Guess: $19.99 Truth: $25.99 Error: $6.00 SLE: 0.06 Item: FireFly Home Stove Top Protector for LG ...\u001b[0m\n",
      "\u001b[92m114: Guess: $22.99 Truth: $18.99 Error: $4.00 SLE: 0.03 Item: Annbully Cartoon USB Mini Mushroom Light...\u001b[0m\n",
      "\u001b[92m115: Guess: $12.99 Truth: $9.99 Error: $3.00 SLE: 0.06 Item: Goldenvalueable 6 x Single Coffee Pod Fi...\u001b[0m\n",
      "\u001b[92m116: Guess: $15.99 Truth: $22.99 Error: $7.00 SLE: 0.12 Item: Blueangle Pink Hibiscus Dishwasher Magne...\u001b[0m\n",
      "\u001b[91m117: Guess: $299.99 Truth: $169.99 Error: $130.00 SLE: 0.32 Item: ROVSUN 13LBS Portable Washing Machine, 1...\u001b[0m\n",
      "\u001b[92m118: Guess: $35.99 Truth: $36.99 Error: $1.00 SLE: 0.00 Item: 1-Year Warranty 137114000 Dryer Heating ...\u001b[0m\n",
      "\u001b[92m119: Guess: $29.99 Truth: $33.99 Error: $4.00 SLE: 0.01 Item: ICEPURE 46-9690 ADQ36006101 Replacement ...\u001b[0m\n",
      "\u001b[93m120: Guess: $25.99 Truth: $104.89 Error: $78.90 SLE: 1.87 Item: Whirlpool W10833899 Water Inlet Valve, W...\u001b[0m\n",
      "\u001b[92m121: Guess: $35.99 Truth: $19.98 Error: $16.01 SLE: 0.32 Item: W11036930 Washing Machine Water Valve FO...\u001b[0m\n",
      "\u001b[92m122: Guess: $12.99 Truth: $9.99 Error: $3.00 SLE: 0.06 Item: Sunflowers Refrigerator Door Handle Cove...\u001b[0m\n",
      "\u001b[92m123: Guess: $8.99 Truth: $28.10 Error: $19.11 SLE: 1.14 Item: General Electric WR17X3880 Front Shelf R...\u001b[0m\n",
      "\u001b[92m124: Guess: $39.99 Truth: $27.50 Error: $12.49 SLE: 0.13 Item: Supco Refrigerator Water Valve for Whirl...\u001b[0m\n",
      "\u001b[92m125: Guess: $0.00 Truth: $36.99 Error: $36.99 SLE: 13.23 Item: HASMX 6-918873 Dishwasher Cutlery Silver...\u001b[0m\n",
      "\u001b[92m126: Guess: $15.99 Truth: $19.84 Error: $3.85 SLE: 0.04 Item: Whirlpool W10437088 Range Surface Burner...\u001b[0m\n",
      "\u001b[92m127: Guess: $10.99 Truth: $24.99 Error: $14.00 SLE: 0.60 Item: 950S - Compatible with GE Square Gas Ran...\u001b[0m\n",
      "\u001b[93m128: Guess: $129.99 Truth: $169.99 Error: $40.00 SLE: 0.07 Item: WAFIET 12 Inch Gas Cooktop with 2 Italy ...\u001b[0m\n",
      "\u001b[92m129: Guess: $32.99 Truth: $19.99 Error: $13.00 SLE: 0.23 Item: Reusable Vertuo Capsule Cap + Coffee Pod...\u001b[0m\n",
      "\u001b[92m130: Guess: $19.99 Truth: $25.95 Error: $5.96 SLE: 0.06 Item: Coffee Filter Holder - Coffee Filter Sto...\u001b[0m\n",
      "\u001b[91m131: Guess: $120.00 Truth: $39.96 Error: $80.04 SLE: 1.17 Item: Star 2F-Z3036 Deflector-Burner Cast\u001b[0m\n",
      "\u001b[92m132: Guess: $15.99 Truth: $15.99 Error: $0.00 SLE: 0.00 Item: General Electric WB17T10006 Range Surfac...\u001b[0m\n",
      "\u001b[92m133: Guess: $47.99 Truth: $39.99 Error: $8.00 SLE: 0.03 Item: WiFi Temperature Sensor with Waterproof ...\u001b[0m\n",
      "\u001b[92m134: Guess: $24.99 Truth: $21.53 Error: $3.46 SLE: 0.02 Item: KITCHEN BASICS 101: 1 Piece 5304439835 F...\u001b[0m\n",
      "\u001b[92m135: Guess: $45.99 Truth: $26.99 Error: $19.00 SLE: 0.27 Item: Dryer Heating Element for Samsung，DC47-0...\u001b[0m\n",
      "\u001b[92m136: Guess: $39.99 Truth: $43.99 Error: $4.00 SLE: 0.01 Item: Samsung DA29-00020B, DA29-00020A, HAF-CI...\u001b[0m\n",
      "\u001b[92m137: Guess: $15.99 Truth: $9.41 Error: $6.58 SLE: 0.24 Item: HQRP 3-Pack Wick Filter Compatible with ...\u001b[0m\n",
      "\u001b[92m138: Guess: $15.99 Truth: $8.99 Error: $7.00 SLE: 0.28 Item: Reusable K Cups For Keurig K-Latte 1.0 C...\u001b[0m\n",
      "\u001b[92m139: Guess: $89.99 Truth: $61.51 Error: $28.48 SLE: 0.14 Item: IM10093 for WR30X10093 GE Icemaker Refri...\u001b[0m\n",
      "\u001b[93m140: Guess: $45.99 Truth: $122.30 Error: $76.31 SLE: 0.93 Item: Whirlpool W10159839 Inlet Valve\u001b[0m\n",
      "\u001b[92m141: Guess: $19.99 Truth: $14.89 Error: $5.10 SLE: 0.08 Item: 100 UNIVERSAL Round Aluminum Foil Gas Bu...\u001b[0m\n",
      "\u001b[92m142: Guess: $10.99 Truth: $39.99 Error: $29.00 SLE: 1.51 Item: TRUE 811502 Nozzle and Screw Set\u001b[0m\n",
      "\u001b[92m143: Guess: $15.99 Truth: $17.90 Error: $1.91 SLE: 0.01 Item: Dianoo Espresso Steaming Pitcher, Espres...\u001b[0m\n",
      "\u001b[92m144: Guess: $29.99 Truth: $16.77 Error: $13.22 SLE: 0.31 Item: Air Filter Factory Replacement For Lenno...\u001b[0m\n",
      "\u001b[92m145: Guess: $25.99 Truth: $23.99 Error: $2.00 SLE: 0.01 Item: EvertechPRO Washer Drain Pump Assembly R...\u001b[0m\n",
      "\u001b[92m146: Guess: $49.99 Truth: $35.00 Error: $14.99 SLE: 0.12 Item: Cheftek CT1010 Portable 2 Burner Electri...\u001b[0m\n",
      "\u001b[92m147: Guess: $12.99 Truth: $4.95 Error: $8.04 SLE: 0.73 Item: HQRP 4 Pin Universal Refrigerator Freeze...\u001b[0m\n",
      "\u001b[92m148: Guess: $14.99 Truth: $18.89 Error: $3.90 SLE: 0.05 Item: 2-Pack W10189190 TSD2 Start Device & W10...\u001b[0m\n",
      "\u001b[92m149: Guess: $15.99 Truth: $8.77 Error: $7.22 SLE: 0.31 Item: Air Filter Factory Replacement For Whirl...\u001b[0m\n",
      "\u001b[92m150: Guess: $25.99 Truth: $17.22 Error: $8.77 SLE: 0.15 Item: Plumb Pak Braided Washing Machine Hose, ...\u001b[0m\n",
      "\u001b[92m151: Guess: $15.99 Truth: $20.98 Error: $4.99 SLE: 0.07 Item: Bosch 00424673 Button, Silver\u001b[0m\n",
      "\u001b[92m152: Guess: $35.99 Truth: $37.37 Error: $1.38 SLE: 0.00 Item: Siwdoy 4391960 279816 3392519 Dryer Heat...\u001b[0m\n",
      "\u001b[92m153: Guess: $12.99 Truth: $11.99 Error: $1.00 SLE: 0.01 Item: OUGAR8 Refrigerator Door Handle Covers H...\u001b[0m\n",
      "\u001b[91m154: Guess: $25.99 Truth: $119.95 Error: $93.96 SLE: 2.25 Item: Bosch 00414750 Range Hood Fan Switch Gen...\u001b[0m\n",
      "\u001b[92m155: Guess: $30.99 Truth: $31.00 Error: $0.01 SLE: 0.00 Item: Replacement Filter Compatible with HG Ty...\u001b[0m\n",
      "\u001b[92m156: Guess: $30.00 Truth: $31.00 Error: $1.00 SLE: 0.00 Item: Aprilaire Humidifier Part # 10 for Model...\u001b[0m\n",
      "\u001b[92m157: Guess: $8.99 Truth: $7.97 Error: $1.02 SLE: 0.01 Item: Technivorm Moccamaster 85090 Cup-One Pap...\u001b[0m\n",
      "\u001b[92m158: Guess: $47.99 Truth: $51.50 Error: $3.51 SLE: 0.00 Item: LG Electronics 4681EA1007D 4681EA2001T W...\u001b[0m\n",
      "\u001b[92m159: Guess: $29.99 Truth: $27.99 Error: $2.00 SLE: 0.00 Item: ALAZA Flower on Marble Art Large Dishwas...\u001b[0m\n",
      "\u001b[91m160: Guess: $699.00 Truth: $466.24 Error: $232.76 SLE: 0.16 Item: Frigidaire FFEC3025UB 30 Inch Electric S...\u001b[0m\n",
      "\u001b[92m161: Guess: $25.99 Truth: $50.36 Error: $24.37 SLE: 0.41 Item: General Electric WR8X122 Refrigerator Ov...\u001b[0m\n",
      "\u001b[92m162: Guess: $19.99 Truth: $19.97 Error: $0.02 SLE: 0.00 Item: Small Size Pour Over Coffee filter Paper...\u001b[0m\n",
      "\u001b[92m163: Guess: $24.99 Truth: $29.95 Error: $4.96 SLE: 0.03 Item: Sealegend 6-Pieces Dryer Vent Cleaner Ki...\u001b[0m\n",
      "\u001b[92m164: Guess: $39.99 Truth: $23.99 Error: $16.00 SLE: 0.24 Item: Waterspecialist XWF NSF Certified Refrig...\u001b[0m\n",
      "\u001b[92m165: Guess: $15.99 Truth: $12.74 Error: $3.25 SLE: 0.05 Item: GARP 279816 Compatible Replacement for D...\u001b[0m\n",
      "\u001b[92m166: Guess: $15.99 Truth: $8.99 Error: $7.00 SLE: 0.28 Item: Premium W10258275 Dishwasher Bimetal The...\u001b[0m\n",
      "\u001b[92m167: Guess: $24.99 Truth: $24.99 Error: $0.00 SLE: 0.00 Item: UpStart Components Replacement for Gener...\u001b[0m\n",
      "\u001b[92m168: Guess: $14.99 Truth: $17.99 Error: $3.00 SLE: 0.03 Item: Chef's Star Stainless Steel Milk Frothin...\u001b[0m\n",
      "\u001b[92m169: Guess: $15.99 Truth: $19.99 Error: $4.00 SLE: 0.04 Item: Egg Container for Refrigerator 2 Layer E...\u001b[0m\n",
      "\u001b[92m170: Guess: $25.99 Truth: $18.77 Error: $7.22 SLE: 0.10 Item: AMI PARTS DC97-16742A Dryer Lint Filter ...\u001b[0m\n",
      "\u001b[92m171: Guess: $30.99 Truth: $47.86 Error: $16.87 SLE: 0.18 Item: GE WB2X9154 Igniter for Gas Broiler or O...\u001b[0m\n",
      "\u001b[92m172: Guess: $25.99 Truth: $34.45 Error: $8.46 SLE: 0.07 Item: General Electric WE25X218 Dryer Conversi...\u001b[0m\n",
      "\u001b[92m173: Guess: $10.99 Truth: $7.99 Error: $3.00 SLE: 0.08 Item: 312959 Dryer Belt Replacement for Maytag...\u001b[0m\n",
      "\u001b[92m174: Guess: $19.99 Truth: $27.99 Error: $8.00 SLE: 0.10 Item: 5-Pack Replacement EF-1 Filter for Kenmo...\u001b[0m\n",
      "\u001b[91m175: Guess: $25.99 Truth: $117.99 Error: $92.00 SLE: 2.20 Item: OEM Samsung Refrigerator Door Bin Basket...\u001b[0m\n",
      "\u001b[91m176: Guess: $499.99 Truth: $989.99 Error: $490.00 SLE: 0.47 Item: vevor 24\" Undercounter Built-in Refriger...\u001b[0m\n",
      "\u001b[92m177: Guess: $25.99 Truth: $18.99 Error: $7.00 SLE: 0.09 Item: Reusable Vertuo Capsule Kit for Nespress...\u001b[0m\n",
      "\u001b[91m178: Guess: $49.99 Truth: $164.98 Error: $114.99 SLE: 1.39 Item: 32\" x 30\" 2.5\" Heavy Duty Washer Machine...\u001b[0m\n",
      "\u001b[92m179: Guess: $24.99 Truth: $19.36 Error: $5.63 SLE: 0.06 Item: Fluidmaster 9WM60 \"No Burst\" Washing Mac...\u001b[0m\n",
      "\u001b[92m180: Guess: $25.99 Truth: $16.00 Error: $9.99 SLE: 0.21 Item: AYZE 5300622034 AP2135128 Electric Restr...\u001b[0m\n",
      "\u001b[92m181: Guess: $15.99 Truth: $21.40 Error: $5.41 SLE: 0.08 Item: Whirlpool 8559751 Door Handle, Black\u001b[0m\n",
      "\u001b[92m182: Guess: $29.99 Truth: $46.99 Error: $17.00 SLE: 0.19 Item: Upgraded Dryer Repair Kit Compatible wit...\u001b[0m\n",
      "\u001b[92m183: Guess: $15.99 Truth: $13.69 Error: $2.30 SLE: 0.02 Item: Camco 00553 8\" GE/Hotpoint Hinge Reflect...\u001b[0m\n",
      "\u001b[92m184: Guess: $10.99 Truth: $22.72 Error: $11.73 SLE: 0.47 Item: GE Part Number WB03T10272 KNOB SELECTOR ...\u001b[0m\n",
      "\u001b[92m185: Guess: $120.00 Truth: $105.13 Error: $14.87 SLE: 0.02 Item: Manitowoc Ice 4304643 Curtain, Water\u001b[0m\n",
      "\u001b[92m186: Guess: $39.99 Truth: $32.50 Error: $7.49 SLE: 0.04 Item: EXP279838 Heating Element ( Replaces 279...\u001b[0m\n",
      "\u001b[92m187: Guess: $150.00 Truth: $114.60 Error: $35.40 SLE: 0.07 Item: Vulcan Hart 346357-1 Thermo\u001b[0m\n",
      "\u001b[92m188: Guess: $50.00 Truth: $84.96 Error: $34.96 SLE: 0.27 Item: Turbo Air 30283N0100 Thermostat\u001b[0m\n",
      "\u001b[93m189: Guess: $25.99 Truth: $83.40 Error: $57.41 SLE: 1.30 Item: Frigidaire 241679003 Dispenser Trim Refr...\u001b[0m\n",
      "\u001b[92m190: Guess: $24.99 Truth: $9.99 Error: $15.00 SLE: 0.74 Item: W10721967 Splutch Cam Kit Replacement fo...\u001b[0m\n",
      "\u001b[92m191: Guess: $15.99 Truth: $9.49 Error: $6.50 SLE: 0.23 Item: newlifeapp 40113801 Dryer Thermal Cut of...\u001b[0m\n",
      "\u001b[92m192: Guess: $15.99 Truth: $29.99 Error: $14.00 SLE: 0.36 Item: Upgraded W10612022 Dryer Rear Drum Felt ...\u001b[0m\n",
      "\u001b[92m193: Guess: $15.99 Truth: $13.57 Error: $2.42 SLE: 0.02 Item: 2 Pack Top Burner Spark Igniter Range Re...\u001b[0m\n",
      "\u001b[92m194: Guess: $45.99 Truth: $19.96 Error: $26.03 SLE: 0.65 Item: 8540024 Washer Drain Pump Motor by Seent...\u001b[0m\n",
      "\u001b[92m195: Guess: $75.00 Truth: $56.99 Error: $18.01 SLE: 0.07 Item: New-Refrigerator Icemaker Module Compati...\u001b[0m\n",
      "\u001b[92m196: Guess: $15.99 Truth: $16.37 Error: $0.38 SLE: 0.00 Item: Whirlpool W10195839 Adjuster\u001b[0m\n",
      "\u001b[92m197: Guess: $29.99 Truth: $19.99 Error: $10.00 SLE: 0.15 Item: Nispira Replacement Range Hood Grease Fi...\u001b[0m\n",
      "\u001b[92m198: Guess: $49.99 Truth: $37.98 Error: $12.01 SLE: 0.07 Item: Mist Water Filter Replacement, Compatibl...\u001b[0m\n",
      "\u001b[92m199: Guess: $24.99 Truth: $34.79 Error: $9.80 SLE: 0.10 Item: (2-Pack) UPGRADE 240356402 Refrigerator ...\u001b[0m\n",
      "\u001b[92m200: Guess: $15.99 Truth: $8.39 Error: $7.60 SLE: 0.35 Item: DPD 3949238 Washer Lid Switch Assembly R...\u001b[0m\n",
      "\u001b[93m201: Guess: $45.99 Truth: $117.86 Error: $71.87 SLE: 0.86 Item: GENUINE Frigidaire 318050800 Bake Elemen...\u001b[0m\n",
      "\u001b[92m202: Guess: $19.99 Truth: $15.99 Error: $4.00 SLE: 0.04 Item: Anti Vibration Pads for Washing Machine,...\u001b[0m\n",
      "\u001b[92m203: Guess: $25.99 Truth: $10.99 Error: $15.00 SLE: 0.66 Item: 8536974 Dryer Drum Support Roller Kit, R...\u001b[0m\n",
      "\u001b[92m204: Guess: $15.99 Truth: $24.43 Error: $8.44 SLE: 0.16 Item: Whirlpool 279816 Dryer Thermal Fuse Kit\u001b[0m\n",
      "\u001b[92m205: Guess: $349.99 Truth: $426.98 Error: $76.99 SLE: 0.04 Item: Empava 36 500 CFM Island Range Hood Duct...\u001b[0m\n",
      "\u001b[92m206: Guess: $39.99 Truth: $39.99 Error: $0.00 SLE: 0.00 Item: SpiroPure SP-LE700 NSF Certified Refrige...\u001b[0m\n",
      "\u001b[92m207: Guess: $32.99 Truth: $26.99 Error: $6.00 SLE: 0.04 Item: Replacement for Jenn-Air A100W 8 inch 5 ...\u001b[0m\n",
      "\u001b[91m208: Guess: $30.00 Truth: $138.69 Error: $108.69 SLE: 2.27 Item: GE WR49X10091 Genuine OEM Damper Control...\u001b[0m\n",
      "\u001b[92m209: Guess: $24.99 Truth: $13.97 Error: $11.02 SLE: 0.30 Item: DC47-00016A Dryer Thermal Fuse Thermosta...\u001b[0m\n",
      "\u001b[92m210: Guess: $25.99 Truth: $21.99 Error: $4.00 SLE: 0.03 Item: 2-Pack Replacement for JFD2589KEP Refrig...\u001b[0m\n",
      "\u001b[92m211: Guess: $15.99 Truth: $18.88 Error: $2.89 SLE: 0.02 Item: WP33001244 33001244 Terminal Block Assem...\u001b[0m\n",
      "\u001b[92m212: Guess: $49.99 Truth: $18.41 Error: $31.58 SLE: 0.93 Item: Whirlpool 308180 Bake, Black\u001b[0m\n",
      "\u001b[92m213: Guess: $45.99 Truth: $9.95 Error: $36.04 SLE: 2.12 Item: LG 6501KW2001B 6501KW2001A Sensor Kenmor...\u001b[0m\n",
      "\u001b[92m214: Guess: $15.99 Truth: $18.00 Error: $2.01 SLE: 0.01 Item: Compatible Drum Belt for Maytag MDE2500A...\u001b[0m\n",
      "\u001b[92m215: Guess: $32.99 Truth: $33.95 Error: $0.96 SLE: 0.00 Item: Whirlpool MAL9000AXX Dryer Liquid Propan...\u001b[0m\n",
      "\u001b[92m216: Guess: $15.99 Truth: $42.95 Error: $26.96 SLE: 0.90 Item: MCGILL Replacement Black Fan Rocker Swit...\u001b[0m\n",
      "\u001b[92m217: Guess: $25.99 Truth: $59.99 Error: $34.00 SLE: 0.66 Item: New Upgraded 5304507199 Refrigerator Doo...\u001b[0m\n",
      "\u001b[92m218: Guess: $35.99 Truth: $55.58 Error: $19.59 SLE: 0.18 Item: TRUE 810719 Black Gasket For Gdm-19/23/4...\u001b[0m\n",
      "\u001b[92m219: Guess: $25.99 Truth: $15.10 Error: $10.89 SLE: 0.27 Item: LG 5215EA3003A Genuine OEM Drain Hose As...\u001b[0m\n",
      "\u001b[92m220: Guess: $29.99 Truth: $45.99 Error: $16.00 SLE: 0.17 Item: Waterspecialist DA29-00020B Refrigerator...\u001b[0m\n",
      "\u001b[92m221: Guess: $25.99 Truth: $60.14 Error: $34.15 SLE: 0.67 Item: GlobPro W10321032 1876931 Washer Water D...\u001b[0m\n",
      "\u001b[92m222: Guess: $49.99 Truth: $45.99 Error: $4.00 SLE: 0.01 Item: AQUA CREST 847200 Refrigerator Water Fil...\u001b[0m\n",
      "\u001b[92m223: Guess: $25.99 Truth: $16.24 Error: $9.75 SLE: 0.20 Item: Frigidaire 297216600 Frigidare Thermosta...\u001b[0m\n",
      "\u001b[92m224: Guess: $10.99 Truth: $31.99 Error: $21.00 SLE: 1.02 Item: Supplying Demand 8557884 W10874409 Cloth...\u001b[0m\n",
      "\u001b[92m225: Guess: $15.99 Truth: $34.00 Error: $18.01 SLE: 0.52 Item: Whole Parts 3398095 Dryer Push To Start ...\u001b[0m\n",
      "\u001b[92m226: Guess: $24.99 Truth: $26.99 Error: $2.00 SLE: 0.01 Item: i Cafillas Refillable Stainless Steel Co...\u001b[0m\n",
      "\u001b[92m227: Guess: $25.99 Truth: $15.39 Error: $10.60 SLE: 0.25 Item: er2198202 Thermostat\u001b[0m\n",
      "\u001b[92m228: Guess: $30.99 Truth: $27.77 Error: $3.22 SLE: 0.01 Item: Beaquicy WB44X5082 Oven Bake Element - R...\u001b[0m\n",
      "\u001b[92m229: Guess: $15.99 Truth: $26.08 Error: $10.09 SLE: 0.22 Item: Whirlpool 661570 Belt\u001b[0m\n",
      "\u001b[92m230: Guess: $19.99 Truth: $18.99 Error: $1.00 SLE: 0.00 Item: iFillMug 33 Pack for K Cup and Keurig Br...\u001b[0m\n",
      "\u001b[91m231: Guess: $35.99 Truth: $159.18 Error: $123.19 SLE: 2.15 Item: Frigidaire 5304506131 Freezer Door Gaske...\u001b[0m\n",
      "\u001b[92m232: Guess: $29.99 Truth: $34.95 Error: $4.96 SLE: 0.02 Item: New York Air 737-300 Airplane Miniature ...\u001b[0m\n",
      "\u001b[92m233: Guess: $49.99 Truth: $25.19 Error: $24.80 SLE: 0.44 Item: Amazon Basics Replacement GE XWF Refrige...\u001b[0m\n",
      "\u001b[92m234: Guess: $15.99 Truth: $19.51 Error: $3.52 SLE: 0.04 Item: Upgraded 5304506510 Dishrack Stop Clip -...\u001b[0m\n",
      "\u001b[92m235: Guess: $29.99 Truth: $37.45 Error: $7.46 SLE: 0.05 Item: Sportman Pastoral Style Vase Flower Kitc...\u001b[0m\n",
      "\u001b[92m236: Guess: $39.99 Truth: $29.99 Error: $10.00 SLE: 0.08 Item: [4680JB1026H Motor OEM Mania] 4680JB1026...\u001b[0m\n",
      "\u001b[93m237: Guess: $120.00 Truth: $163.56 Error: $43.56 SLE: 0.09 Item: 5304458371 Refrigerator Ice Maker Assemb...\u001b[0m\n",
      "\u001b[92m238: Guess: $15.99 Truth: $27.00 Error: $11.01 SLE: 0.25 Item: WE01X25915 Appliance Slide for General E...\u001b[0m\n",
      "\u001b[92m239: Guess: $18.99 Truth: $5.99 Error: $13.00 SLE: 1.10 Item: W10195416 Lower Dishwasher Wheel Replace...\u001b[0m\n",
      "\u001b[92m240: Guess: $15.99 Truth: $6.64 Error: $9.35 SLE: 0.64 Item: Gas Female Cap ORIFICE 1/8\" NPT # .75 (....\u001b[0m\n",
      "\u001b[92m241: Guess: $15.99 Truth: $26.04 Error: $10.05 SLE: 0.22 Item: 9pcs Silicon Rubber Pad for Bottle Cappi...\u001b[0m\n",
      "\u001b[92m242: Guess: $10.99 Truth: $13.79 Error: $2.80 SLE: 0.04 Item: Supplying Demand 6601EL3001A EBF61496101...\u001b[0m\n",
      "\u001b[92m243: Guess: $50.00 Truth: $78.98 Error: $28.98 SLE: 0.20 Item: General Electric WR24X10184 Refrigerator...\u001b[0m\n",
      "\u001b[92m244: Guess: $15.99 Truth: $27.99 Error: $12.00 SLE: 0.29 Item: i Cafilas New Lid Stainless Steel Refill...\u001b[0m\n",
      "\u001b[92m245: Guess: $14.99 Truth: $14.99 Error: $0.00 SLE: 0.00 Item: GHM Humidifier Replacement Filter E HC14...\u001b[0m\n",
      "\u001b[93m246: Guess: $120.00 Truth: $50.25 Error: $69.75 SLE: 0.74 Item: Manitowoc Ice 000009123 Water Inlet Valv...\u001b[0m\n",
      "\u001b[93m247: Guess: $47.99 Truth: $101.36 Error: $53.37 SLE: 0.54 Item: General Electric WH08X10049 Door Boot Se...\u001b[0m\n",
      "\u001b[92m248: Guess: $12.99 Truth: $4.98 Error: $8.01 SLE: 0.72 Item: Kitchen Stove Gap Cover Stove Count Gap ...\u001b[0m\n",
      "\u001b[92m249: Guess: $15.99 Truth: $9.89 Error: $6.10 SLE: 0.20 Item: W11457841 Washer & Dryer Lid Strike - fo...\u001b[0m\n",
      "\u001b[92m250: Guess: $24.99 Truth: $27.99 Error: $3.00 SLE: 0.01 Item: Nispira Humidifier Wick Filter Replaceme...\u001b[0m\n"
     ]
    },
    {
     "data": {
      "image/png": "[encoded data removed]",
      "text/plain": [
       "<Figure size 1200x800 with 1 Axes>"
      ]
     },
     "metadata": {},
     "output_type": "display_data"
    }
   ],
   "source": [
    "Tester.test(gpt_4o_mini, test)"
   ]
  },
  {
   "cell_type": "markdown",
   "id": "2328db3f-1bfd-49ae-89b9-f34a55adfc83",
   "metadata": {},
   "source": [
    "## Trying the GPT-4o\n",
    "\n",
    "I used this model from August 2024"
   ]
  },
  {
   "cell_type": "code",
   "execution_count": null,
   "id": "f49e90d6-6749-4eb8-9347-5922b189d379",
   "metadata": {},
   "outputs": [],
   "source": [
    "def gpt_4o_frontier(item):\n",
    "    response = openai.chat.completions.create(\n",
    "        model=\"gpt-4o-2024-08-06\", \n",
    "        messages=messages_for(item),\n",
    "        seed=42,\n",
    "        max_tokens=5\n",
    "    )\n",
    "    reply = response.choices[0].message.content\n",
    "    return get_price(reply)"
   ]
  },
  {
   "cell_type": "code",
   "execution_count": null,
   "id": "766e697e-55bf-4521-b301-3b07d20045e0",
   "metadata": {},
   "outputs": [],
   "source": [
    "# The function for gpt-4o - the August model\n",
    "\n",
    "Tester.test(gpt_4o_frontier, test)"
   ]
  },
  {
   "cell_type": "markdown",
   "id": "b0598d5a-1609-423b-ba07-8c35d7a5d3f7",
   "metadata": {},
   "source": [
    "## Trying the claude-3-5-sonnet\n"
   ]
  },
  {
   "cell_type": "code",
   "execution_count": null,
   "id": "53d941cb-5b73-44ea-b893-3a0ce9997066",
   "metadata": {},
   "outputs": [],
   "source": [
    "def claude_3_point_5_sonnet(item):\n",
    "    messages = messages_for(item)\n",
    "    system_message = messages[0]['content']\n",
    "    messages = messages[1:]\n",
    "    response = claude.messages.create(\n",
    "        model=\"claude-3-5-sonnet-20240620\",\n",
    "        max_tokens=5,\n",
    "        system=system_message,\n",
    "        messages=messages\n",
    "    )\n",
    "    reply = response.content[0].text\n",
    "    return get_price(reply)"
   ]
  },
  {
   "cell_type": "code",
   "execution_count": null,
   "id": "11dba25d-f562-40f9-9855-40b715b7fc86",
   "metadata": {},
   "outputs": [],
   "source": [
    "# The function for Claude 3.5 Sonnet\n",
    "\n",
    "Tester.test(claude_3_point_5_sonnet, test)"
   ]
  },
  {
   "cell_type": "code",
   "execution_count": null,
   "id": "77428dfb-d8f4-4477-8265-77b4b0badd39",
   "metadata": {},
   "outputs": [],
   "source": []
  }
 ],
 "metadata": {
  "kernelspec": {
   "display_name": "Python 3 (ipykernel)",
   "language": "python",
   "name": "python3"
  },
  "language_info": {
   "codemirror_mode": {
    "name": "ipython",
    "version": 3
   },
   "file_extension": ".py",
   "mimetype": "text/x-python",
   "name": "python",
   "nbconvert_exporter": "python",
   "pygments_lexer": "ipython3",
   "version": "3.11.11"
  }
 },
 "nbformat": 4,
 "nbformat_minor": 5
}
